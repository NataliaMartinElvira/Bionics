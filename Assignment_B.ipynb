{
  "cells": [
    {
      "cell_type": "markdown",
      "metadata": {
        "id": "gi7Q2Umue4XH"
      },
      "source": [
        "# Assignment B Week 1\n",
        "\n",
        "## Linear-Nonlinear-Poisson (LNP) Model\n",
        "\n",
        "This is the assignment B for Week 1. Below, you find two exercises. Try to finish them, then commit your notebook!\n",
        "\n",
        "\n"
      ]
    },
    {
      "cell_type": "markdown",
      "metadata": {
        "id": "z_fpG6H4g04G"
      },
      "source": [
        "## Exercise 0\n",
        "\n",
        "For the first Exercise, we will use spike triggered average (STA) to compute the optima receptive field (RF) to a neuron, based on its responses on random noise. Then, we will use this estimated linear filter and the actual stimulus You can read about RF estimation on the material in the Moodle.\n",
        "\n",
        "You will be given as source data:\n",
        "  1. A spike train recorded from the neuron\n",
        "  2. The movie of white noise that was displayed to the neuron consisting of 200,000 frames, each one 20 pixels by 20 pixels.\n",
        "\n",
        "All data have a sampling rate of 1KHz (1 bin = 1ms)\n",
        "\n",
        "The source data downloads automatically in the first cell. If you are working locally on your computer, you candowload the Data from https://drive.google.com/file/d/1SclaPgwknemnkefL2jHivdYp1k_ZQipA/view?usp=sharing (stimulus.npy) and https://drive.google.com/file/d/1g01dV2AMWRimQJzteXZKcll464OrRtjw/view?usp=sharing (spikes.npy).\n",
        "\n",
        "\n",
        " 1) Write a function `estimate_rf(st, sp, num_window)` that takes three inputs, the stimulus-train, the spike-train and a temporal window, and returns the receptive field **rf** of the neuron in question  estimated by spike triggered average within the given window.\n",
        "\n",
        " Inputs:\n",
        " - **st**: 3D np.array, (nb_pixels_w x nb_pixels_h x nb_timepoints )\n",
        " - **sp**: 1D np.array, nb_timepoints\n",
        " - **num_window**: int, length of the window\n",
        " Output:\n",
        " - **rf** receptive field, 2D np.array (nb_pixels_w x nb_pixels_h)"
      ]
    },
    {
      "cell_type": "code",
      "source": [
        "# Here, we download the data:\n",
        "\n",
        "import gdown\n",
        "import numpy as np\n",
        "\n",
        "def fecth_npy_from_drive_id(file_id, output_filename=None):\n",
        "    url = f\"https://drive.google.com/uc?id={file_id}\"\n",
        "\n",
        "    if output_filename is None:\n",
        "        output_filename = \"downloaded.npy\"\n",
        "\n",
        "    gdown.download(url, output_filename, quiet=False)\n",
        "\n",
        "    return np.load(output_filename)\n",
        "\n",
        "# stimulus and spike train files from link id (do not change the link ids)\n",
        "stimulus_file = \"1SclaPgwknemnkefL2jHivdYp1k_ZQipA\"\n",
        "stimulus = fecth_npy_from_drive_id(stimulus_file)\n",
        "\n",
        "# Second file\n",
        "spikes_files = \"1g01dV2AMWRimQJzteXZKcll464OrRtjw\"\n",
        "spikes = fecth_npy_from_drive_id(spikes_files)\n",
        "\n",
        "print(spikes.shape,stimulus.shape)"
      ],
      "metadata": {
        "id": "IIjFH2PcdB4F",
        "outputId": "9fa51ac6-5846-4f61-8f84-b283aa57fffa",
        "colab": {
          "base_uri": "https://localhost:8080/"
        }
      },
      "execution_count": 1,
      "outputs": [
        {
          "output_type": "stream",
          "name": "stderr",
          "text": [
            "Downloading...\n",
            "From (original): https://drive.google.com/uc?id=1SclaPgwknemnkefL2jHivdYp1k_ZQipA\n",
            "From (redirected): https://drive.google.com/uc?id=1SclaPgwknemnkefL2jHivdYp1k_ZQipA&confirm=t&uuid=ea2e7992-b429-494d-baf1-72fee095d0bd\n",
            "To: /content/downloaded.npy\n",
            "100%|██████████| 640M/640M [00:12<00:00, 50.7MB/s]\n",
            "Downloading...\n",
            "From: https://drive.google.com/uc?id=1g01dV2AMWRimQJzteXZKcll464OrRtjw\n",
            "To: /content/downloaded.npy\n",
            "100%|██████████| 1.60M/1.60M [00:00<00:00, 123MB/s]"
          ]
        },
        {
          "output_type": "stream",
          "name": "stdout",
          "text": [
            "(200000,) (20, 20, 200000)\n"
          ]
        },
        {
          "output_type": "stream",
          "name": "stderr",
          "text": [
            "\n"
          ]
        }
      ]
    },
    {
      "cell_type": "code",
      "execution_count": 11,
      "metadata": {
        "id": "TbmvKHC9fL2A"
      },
      "outputs": [],
      "source": [
        "# Function to estimate the RF\n",
        "\n",
        "def estimate_rf(st,sp,num_window):\n",
        "    nbpixels_width,nbpixels_height,T=st.shape\n",
        "    sta_sum=np.zeros((nbpixels_width,nbpixels_height))\n",
        "    spike_count=0\n",
        "\n",
        "    for t in range(num_window,T):\n",
        "      if sp[t]:\n",
        "        sta_sum+= st[:,:,t-num_window]\n",
        "        spike_count+=1\n",
        "    rf=sta_sum/spike_count\n",
        "    return rf\n"
      ]
    },
    {
      "cell_type": "markdown",
      "metadata": {
        "id": "UtYhFskRfR-1"
      },
      "source": [
        "## Exercise 1 [optional]\n",
        "\n",
        "As you have read in the course material for the assignment, LNP models of neurons consist of three parts:\n",
        " 1. a linear filter that compute the firing rate as linear term,\n",
        " 2. a nonlinear term that takes as input the result of the linear filter and applies a nonlinear function to it (the easiest can be a rectified linear function, or a saturating sigmoid) to produce the expected firing rate. This is reasonable to expect as neurons have a threshold to fire!\n",
        " 3. a poisson process that generate spikes from the expected firing rate computed in the nonlinear function.\n",
        "\n",
        "In Exercise 0, we calculated the RF for the neuron (which under some assumptions can be done even not considering the nonlinearity). Now, we need to see if we can reconstruct the nonlinearity considering what our linear RF predicts as the neuron activity, and the neuron actual firing.\n",
        "\n",
        "Your task is to try to estimate the nonlinearity function of the neuron. The nonlinearity will be a function taking as input activations computed using the RF and the stimulus and will produce final firing rate in Hz.\n",
        "\n",
        "There can be several ways of doing this, In general, you will need to proceed in this way:\n",
        "1. Calculate linear activation of the neuron from the stimulus and the receptive field.\n",
        "2. Understand how this expected linear activation of the neuron relate with the actual firing rate of the neuron. (One way can be to can use percentiles -or some other binning- to \"chunk\" the linear activation, and count the fraction of spikes that were produced when the linear activation was lower that some given value). Make a plot of this curve.\n",
        "3. [If you are really motivated] fit a function to the relationship you find.\n",
        "\n",
        "\n",
        "\n"
      ]
    }
  ],
  "metadata": {
    "colab": {
      "provenance": []
    },
    "kernelspec": {
      "display_name": "Python 3 (ipykernel)",
      "language": "python",
      "name": "python3"
    },
    "language_info": {
      "codemirror_mode": {
        "name": "ipython",
        "version": 3
      },
      "file_extension": ".py",
      "mimetype": "text/x-python",
      "name": "python",
      "nbconvert_exporter": "python",
      "pygments_lexer": "ipython3",
      "version": "3.7.10"
    }
  },
  "nbformat": 4,
  "nbformat_minor": 0
}